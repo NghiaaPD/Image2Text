{
 "cells": [
  {
   "cell_type": "markdown",
   "source": [
    "# Import libraries"
   ],
   "metadata": {
    "collapsed": false
   },
   "id": "befecd48059e1543"
  },
  {
   "cell_type": "code",
   "execution_count": 77,
   "id": "initial_id",
   "metadata": {
    "collapsed": true,
    "ExecuteTime": {
     "end_time": "2024-03-31T15:02:18.945425Z",
     "start_time": "2024-03-31T15:02:18.936639200Z"
    }
   },
   "outputs": [],
   "source": [
    "import pytesseract\n",
    "import cv2\n",
    "import nltk\n",
    "import re"
   ]
  },
  {
   "cell_type": "markdown",
   "source": [
    "# Load data"
   ],
   "metadata": {
    "collapsed": false
   },
   "id": "452286c8ef146430"
  },
  {
   "cell_type": "code",
   "execution_count": 78,
   "outputs": [],
   "source": [
    "image=cv2.imread('./foody-mini-stop-nguyen-thuong-hien-635468100206750710.jpg',0)"
   ],
   "metadata": {
    "collapsed": false,
    "ExecuteTime": {
     "end_time": "2024-03-31T15:02:19.977505500Z",
     "start_time": "2024-03-31T15:02:19.956009500Z"
    }
   },
   "id": "f1b98cd2fcdb789"
  },
  {
   "cell_type": "markdown",
   "source": [
    "# Preprocess image"
   ],
   "metadata": {
    "collapsed": false
   },
   "id": "745dd678482b08b"
  },
  {
   "cell_type": "code",
   "execution_count": 79,
   "outputs": [
    {
     "name": "stdout",
     "output_type": "stream",
     "text": [
      "min\n",
      "stop\n",
      "\n",
      "ua hang =; 245 nguyen thuong hien(no, 10)\n",
      "lia chi : 245 nauyen thuong hien(ho, 10),\n",
      "nien thoai: (08)35 15 07 83\n",
      "\n",
      "hoa don ban le\n",
      "nony:9/19/2014 22:40\n",
      "\n",
      "ten hang hoa $l6 don gia thanh tien\n",
      "sushi ton 3.00 7,000 21,000\n",
      "sushi thanh cua 1.00 6,000 6,000\n",
      "sushi lap xuong dau hu thanh cua 1.00 6,000 6,000\n",
      "sushi thanh cua dua leo mayo 1,00 5.000 5,000\n",
      "sushi xot ca hoi 1.00 7,000 7,000\n",
      "tao bien godbavee kim chi 59 1,00 13,000 13,000\n",
      "tao bien sonka green 49 1.00 13,500 43,500\n",
      "tong tien thanh toan vnd 71,800\n",
      "tien sat und 102,000\n",
      "change back (tien nat) vnd 30,508\n",
      "\n",
      "quay thu naan: 11001002\n",
      "na nhan vien: 1100100004\n",
      "\n",
      "kl\n"
     ]
    }
   ],
   "source": [
    "text=(pytesseract.image_to_string(image)).lower()\n",
    "print(text)"
   ],
   "metadata": {
    "collapsed": false,
    "ExecuteTime": {
     "end_time": "2024-03-31T15:02:21.569981Z",
     "start_time": "2024-03-31T15:02:20.941258900Z"
    }
   },
   "id": "4451a7a7a0241e2"
  },
  {
   "cell_type": "code",
   "execution_count": 80,
   "outputs": [
    {
     "data": {
      "text/plain": "True"
     },
     "execution_count": 80,
     "metadata": {},
     "output_type": "execute_result"
    }
   ],
   "source": [
    "nltk.download('punkt',quiet=True)\n",
    "nltk.download('wordnet',quiet=True)"
   ],
   "metadata": {
    "collapsed": false,
    "ExecuteTime": {
     "end_time": "2024-03-31T15:02:22.618221600Z",
     "start_time": "2024-03-31T15:02:22.117978900Z"
    }
   },
   "id": "bf2e98fdc26b0c78"
  },
  {
   "cell_type": "code",
   "execution_count": 81,
   "outputs": [
    {
     "data": {
      "text/plain": "'min'"
     },
     "execution_count": 81,
     "metadata": {},
     "output_type": "execute_result"
    }
   ],
   "source": [
    "sent_tokens=nltk.sent_tokenize(text)\n",
    "#print(sent_tokens)\n",
    "sent_tokens[0].splitlines()[0]"
   ],
   "metadata": {
    "collapsed": false,
    "ExecuteTime": {
     "end_time": "2024-03-31T15:02:23.066291400Z",
     "start_time": "2024-03-31T15:02:23.056297700Z"
    }
   },
   "id": "2645e657237cf1fc"
  },
  {
   "cell_type": "code",
   "execution_count": 82,
   "outputs": [],
   "source": [
    "def extract_invoice_lines(text):\n",
    "    start_index = text.find(\"hoa don ban le\")\n",
    "    end_index = text.find(\"quay thu\")\n",
    "\n",
    "    if start_index == -1 or end_index == -1:\n",
    "        return None\n",
    "\n",
    "    return text[start_index:end_index].strip()"
   ],
   "metadata": {
    "collapsed": false,
    "ExecuteTime": {
     "end_time": "2024-03-31T15:02:23.534274400Z",
     "start_time": "2024-03-31T15:02:23.530729Z"
    }
   },
   "id": "5a208c6fab532518"
  },
  {
   "cell_type": "code",
   "execution_count": 83,
   "outputs": [
    {
     "name": "stdout",
     "output_type": "stream",
     "text": [
      "hoa don ban le\n",
      "nony:9/19/2014 22:40\n",
      "\n",
      "ten hang hoa $l6 don gia thanh tien\n",
      "sushi ton 3.00 7,000 21,000\n",
      "sushi thanh cua 1.00 6,000 6,000\n",
      "sushi lap xuong dau hu thanh cua 1.00 6,000 6,000\n",
      "sushi thanh cua dua leo mayo 1,00 5.000 5,000\n",
      "sushi xot ca hoi 1.00 7,000 7,000\n",
      "tao bien godbavee kim chi 59 1,00 13,000 13,000\n",
      "tao bien sonka green 49 1.00 13,500 43,500\n",
      "tong tien thanh toan vnd 71,800\n",
      "tien sat und 102,000\n",
      "change back (tien nat) vnd 30,508\n"
     ]
    }
   ],
   "source": [
    "extracted_text = extract_invoice_lines(text)\n",
    "print(extracted_text)"
   ],
   "metadata": {
    "collapsed": false,
    "ExecuteTime": {
     "end_time": "2024-03-31T15:02:24.045466800Z",
     "start_time": "2024-03-31T15:02:24.020606300Z"
    }
   },
   "id": "7847f9baa7a4c854"
  },
  {
   "cell_type": "code",
   "execution_count": 84,
   "outputs": [
    {
     "name": "stdout",
     "output_type": "stream",
     "text": [
      "9/19/2014\n"
     ]
    }
   ],
   "source": [
    "match=re.findall(r'\\d+[/.-]\\d+[/.-]\\d+', extracted_text)\n",
    "\n",
    "st=\" \"\n",
    "st=st.join(match)\n",
    "print(st)"
   ],
   "metadata": {
    "collapsed": false,
    "ExecuteTime": {
     "end_time": "2024-03-31T15:02:26.565961600Z",
     "start_time": "2024-03-31T15:02:26.544288100Z"
    }
   },
   "id": "70386658e5ed42fb"
  },
  {
   "cell_type": "code",
   "execution_count": 85,
   "outputs": [],
   "source": [
    "def extract_details(text):\n",
    "    start_index = text.find(st)\n",
    "    end_index = text.find(\"tong tien thanh toan\")\n",
    "\n",
    "    if start_index == -1 or end_index == -1:\n",
    "        return None\n",
    "\n",
    "    return text[start_index:end_index].strip()"
   ],
   "metadata": {
    "collapsed": false,
    "ExecuteTime": {
     "end_time": "2024-03-31T15:02:27.017064100Z",
     "start_time": "2024-03-31T15:02:27.006121700Z"
    }
   },
   "id": "92696ef384f7e5f2"
  },
  {
   "cell_type": "code",
   "execution_count": 86,
   "outputs": [
    {
     "name": "stdout",
     "output_type": "stream",
     "text": [
      "9/19/2014 22:40\n",
      "\n",
      "ten hang hoa $l6 don gia thanh tien\n",
      "sushi ton 3.00 7,000 21,000\n",
      "sushi thanh cua 1.00 6,000 6,000\n",
      "sushi lap xuong dau hu thanh cua 1.00 6,000 6,000\n",
      "sushi thanh cua dua leo mayo 1,00 5.000 5,000\n",
      "sushi xot ca hoi 1.00 7,000 7,000\n",
      "tao bien godbavee kim chi 59 1,00 13,000 13,000\n",
      "tao bien sonka green 49 1.00 13,500 43,500\n"
     ]
    }
   ],
   "source": [
    "new_text = extract_details(extracted_text)  \n",
    "print(new_text)"
   ],
   "metadata": {
    "collapsed": false,
    "ExecuteTime": {
     "end_time": "2024-03-31T15:02:27.378275600Z",
     "start_time": "2024-03-31T15:02:27.370645100Z"
    }
   },
   "id": "48d0d7d2fd686016"
  },
  {
   "cell_type": "code",
   "execution_count": null,
   "outputs": [],
   "source": [],
   "metadata": {
    "collapsed": false
   },
   "id": "624d94c81a72300"
  }
 ],
 "metadata": {
  "kernelspec": {
   "display_name": "Python 3",
   "language": "python",
   "name": "python3"
  },
  "language_info": {
   "codemirror_mode": {
    "name": "ipython",
    "version": 2
   },
   "file_extension": ".py",
   "mimetype": "text/x-python",
   "name": "python",
   "nbconvert_exporter": "python",
   "pygments_lexer": "ipython2",
   "version": "2.7.6"
  }
 },
 "nbformat": 4,
 "nbformat_minor": 5
}
